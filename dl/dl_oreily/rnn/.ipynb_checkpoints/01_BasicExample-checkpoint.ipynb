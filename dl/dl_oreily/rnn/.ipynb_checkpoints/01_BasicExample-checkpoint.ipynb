{
 "cells": [
  {
   "cell_type": "code",
   "execution_count": 1,
   "metadata": {
    "collapsed": true
   },
   "outputs": [],
   "source": [
    "import tensorflow as tf\n",
    "import numpy as np"
   ]
  },
  {
   "cell_type": "code",
   "execution_count": 2,
   "metadata": {
    "collapsed": true
   },
   "outputs": [],
   "source": [
    "n_inputs = 3 \n",
    "n_neurons = 5"
   ]
  },
  {
   "cell_type": "code",
   "execution_count": 3,
   "metadata": {
    "collapsed": true
   },
   "outputs": [],
   "source": [
    "\n",
    "X0 = tf.placeholder(tf.float32, [None, n_inputs]) \n",
    "X1 = tf.placeholder(tf.float32, [None, n_inputs])\n",
    "\n",
    "Wx = tf.Variable(tf.random_normal(shape=[n_inputs, n_neurons],dtype=tf.float32)) \n",
    "Wy = tf.Variable(tf.random_normal(shape=[n_neurons,n_neurons],dtype=tf.float32)) \n",
    "b = tf.Variable(tf.zeros([1, n_neurons], dtype=tf.float32))\n",
    "\n",
    "Y0 = tf.tanh(tf.matmul(X0, Wx) + b)\n",
    "Y1 = tf.tanh(tf.matmul(Y0, Wy) + tf.matmul(X1, Wx) + b)\n",
    "\n"
   ]
  },
  {
   "cell_type": "code",
   "execution_count": 4,
   "metadata": {},
   "outputs": [
    {
     "name": "stdout",
     "output_type": "stream",
     "text": [
      "[[-0.80373371 -0.7172628  -0.46096027 -0.98774779  0.96068573]\n",
      " [ 0.96868432 -0.99999678 -0.99935275 -0.99999738  0.99999928]\n",
      " [ 0.99994498 -1.         -0.9999994  -1.          1.        ]\n",
      " [ 1.         -0.99999964 -1.          0.88875806  0.99987507]]\n",
      "[[ 1.         -1.         -1.         -1.          1.        ]\n",
      " [-0.18146636  0.88108331 -0.99991596  0.98552763 -0.92648298]\n",
      " [ 0.99999905 -1.         -1.         -0.99743527  0.99999893]\n",
      " [ 0.99794745 -0.99945462 -0.99990225  0.9985674   0.99729639]]\n"
     ]
    }
   ],
   "source": [
    "# Mini-batch:        instance 0,instance 1,instance 2,instance 3\n",
    "X0_batch = np.array([[0, 1, 2], [3, 4, 5], [6, 7, 8], [9, 0, 1]]) # t = 0 \n",
    "X1_batch = np.array([[9, 8, 7], [0, 0, 0], [6, 5, 4], [3, 2, 1]]) # t = 1\n",
    "\n",
    "init = tf.global_variables_initializer()\n",
    "\n",
    "with tf.Session() as sess: \n",
    "    init.run()\n",
    "    Y0_val, Y1_val = sess.run([Y0, Y1], feed_dict={X0: X0_batch, X1: X1_batch})\n",
    "    print(Y0_val)\n",
    "    print(Y1_val)\n",
    "    \n"
   ]
  },
  {
   "cell_type": "markdown",
   "metadata": {},
   "source": [
    "Static unroll the network"
   ]
  },
  {
   "cell_type": "code",
   "execution_count": 7,
   "metadata": {},
   "outputs": [],
   "source": [
    "n_steps = 4\n",
    "X = tf.placeholder(tf.float32, [None, n_steps, n_inputs]) \n",
    "X_seqs = tf.unstack(tf.transpose(X, perm=[1, 0, 2])) \n",
    "basic_cell = tf.contrib.rnn.BasicRNNCell(num_units=n_neurons, reuse=tf.AUTO_REUSE) \n",
    "output_seqs, states = tf.contrib.rnn.static_rnn(basic_cell, X_seqs, dtype=tf.float32) \n",
    "outputs = tf.transpose(tf.stack(output_seqs), perm=[1, 0, 2])"
   ]
  },
  {
   "cell_type": "code",
   "execution_count": 8,
   "metadata": {
    "scrolled": true
   },
   "outputs": [
    {
     "name": "stdout",
     "output_type": "stream",
     "text": [
      "((4, 4, 5), array([[[-0.99952227, -0.99999976,  0.12407202,  0.46692491, -0.99591285],\n",
      "        [ 0.58966893, -0.99544388,  0.99504101, -0.41830763, -0.69340158],\n",
      "        [ 0.63519877, -0.99999696, -0.99996918, -0.40250432,  0.9804092 ],\n",
      "        [-0.99984801, -0.99999976,  0.61581045,  0.59178275, -0.86763662]],\n",
      "\n",
      "       [[ 0.90852767, -0.999672  , -0.62289792, -0.78439206,  0.9852885 ],\n",
      "        [ 0.52905095, -0.99968922,  0.99589378, -0.9020018 ,  0.99641085],\n",
      "        [ 0.8890959 , -0.99995148, -0.99894524, -0.89530128,  0.99970108],\n",
      "        [ 0.80813003, -0.98308599, -0.97861427, -0.35567388,  0.99966186]],\n",
      "\n",
      "       [[ 0.53978199, -0.99999964, -0.1270055 , -0.84569317,  0.95815176],\n",
      "        [-0.99306911, -1.        , -0.79200131, -0.49212697,  0.6679067 ],\n",
      "        [-0.51949733, -0.99999958,  0.99852085, -0.71204007,  0.33211777],\n",
      "        [ 0.98193645, -0.99773681,  0.3473717 , -0.93535382,  0.98810875]],\n",
      "\n",
      "       [[ 0.82211715, -0.99997753, -0.9999553 , -0.33214548,  0.99582005],\n",
      "        [-0.81366837, -0.99973798, -0.99998385,  0.657534  ,  0.99709833],\n",
      "        [-0.92952871, -0.99995816,  0.99998403, -0.61141253,  0.0233255 ],\n",
      "        [-0.96657217, -1.00000012,  0.09099048, -0.42664662, -0.95641601]]], dtype=float32))\n"
     ]
    }
   ],
   "source": [
    "\n",
    "X_batch = np.array([ \n",
    "    #t=0        t=1\n",
    "    [[0, 1, 2], [9, 8, 7]], # instance 0 \n",
    "    [[3, 4, 5], [0, 0, 0]], # instance 1\n",
    "    [[6, 7, 8], [6, 5, 4]], # instance 2\n",
    "    [[9, 0, 1], [3, 2, 1]], # instance 3 \n",
    "])\n",
    "\n",
    "X_batch = np.random.randint(0, high=10, size=(4, n_steps, n_inputs))\n",
    "\n",
    "init = tf.global_variables_initializer()\n",
    "\n",
    "with tf.Session() as sess: \n",
    "    init.run()\n",
    "    outputs_val = outputs.eval(feed_dict={X: X_batch})\n",
    "    print(outputs_val.shape, outputs_val)"
   ]
  },
  {
   "cell_type": "markdown",
   "metadata": {},
   "source": [
    "Dynamic RNN"
   ]
  },
  {
   "cell_type": "code",
   "execution_count": 9,
   "metadata": {
    "collapsed": true
   },
   "outputs": [],
   "source": [
    "X = tf.placeholder(tf.float32, [None, n_steps, n_inputs]) \n",
    "basic_cell = tf.contrib.rnn.BasicRNNCell(num_units=n_neurons, reuse=True)\n",
    "outputs, states = tf.nn.dynamic_rnn(basic_cell, X, dtype=tf.float32)"
   ]
  },
  {
   "cell_type": "code",
   "execution_count": 10,
   "metadata": {},
   "outputs": [
    {
     "name": "stdout",
     "output_type": "stream",
     "text": [
      "((4, 4, 5), array([[[ 0.84462476, -0.6585542 ,  0.9927572 ,  0.89281952, -0.65970182],\n",
      "        [-0.75628   ,  0.26940656,  0.32421732,  0.9662903 , -0.57801443],\n",
      "        [ 0.90861768, -0.9043479 ,  0.98886329,  0.85309118, -0.99996763],\n",
      "        [ 0.83608407, -0.64578491,  0.99703872,  0.99633175, -0.94943935]],\n",
      "\n",
      "       [[-0.88961327, -0.3347792 ,  0.62958187,  0.63128752, -0.99523991],\n",
      "        [-0.99987781,  0.91565573,  0.7675792 ,  0.93779308, -0.7094236 ],\n",
      "        [-0.58232498, -0.63242155,  0.94961023,  0.9394356 , -0.99993366],\n",
      "        [-0.7672044 , -0.27557454,  0.83113921,  0.84587961, -0.99764889]],\n",
      "\n",
      "       [[-0.94897097, -0.38977131,  0.92230588,  0.88230014, -0.99821258],\n",
      "        [-0.50444186, -0.62840974,  0.99943507,  0.99098766, -0.99892753],\n",
      "        [-0.99507862,  0.62459558,  0.96561444,  0.98705035, -0.88364375],\n",
      "        [-0.98785317,  0.51803941,  0.60102671,  0.92741978, -0.98171282]],\n",
      "\n",
      "       [[ 0.92664295, -0.96478868,  0.95345062,  0.49587837, -0.99997723],\n",
      "        [ 0.99841017, -0.98567927,  0.98974007,  0.93790865, -0.99997419],\n",
      "        [-0.98848915,  0.69904357,  0.843099  ,  0.99514967, -0.53389609],\n",
      "        [ 0.05522367, -0.3861137 ,  0.99316853,  0.9810285 , -0.95808834]]], dtype=float32))\n"
     ]
    }
   ],
   "source": [
    "\n",
    "# X_batch = np.array([ \n",
    "#     #t=0        t=1\n",
    "#     [[0, 1, 2], [9, 8, 7]], # instance 0 \n",
    "#     [[3, 4, 5], [0, 0, 0]], # instance 1\n",
    "#     [[6, 7, 8], [6, 5, 4]], # instance 2\n",
    "#     [[9, 0, 1], [3, 2, 1]], # instance 3 \n",
    "# ])\n",
    "# X_batch = np.random.randint(0, high=10, size=(4, n_steps, n_inputs))\n",
    "\n",
    "with tf.Session() as sess: \n",
    "    init.run()\n",
    "    outputs_val = outputs.eval(feed_dict={X: X_batch})\n",
    "    print(outputs_val.shape, outputs_val)"
   ]
  },
  {
   "cell_type": "markdown",
   "metadata": {},
   "source": [
    "Variable Sequence Length"
   ]
  },
  {
   "cell_type": "code",
   "execution_count": 11,
   "metadata": {},
   "outputs": [
    {
     "ename": "ValueError",
     "evalue": "Cannot feed value of shape (4, 2, 3) for Tensor u'Placeholder_4:0', which has shape '(?, 4, 3)'",
     "output_type": "error",
     "traceback": [
      "\u001b[0;31m---------------------------------------------------------------------------\u001b[0m",
      "\u001b[0;31mValueError\u001b[0m                                Traceback (most recent call last)",
      "\u001b[0;32m<ipython-input-11-f3feecffe980>\u001b[0m in \u001b[0;36m<module>\u001b[0;34m()\u001b[0m\n\u001b[1;32m     16\u001b[0m \u001b[0;32mwith\u001b[0m \u001b[0mtf\u001b[0m\u001b[0;34m.\u001b[0m\u001b[0mSession\u001b[0m\u001b[0;34m(\u001b[0m\u001b[0;34m)\u001b[0m \u001b[0;32mas\u001b[0m \u001b[0msess\u001b[0m\u001b[0;34m:\u001b[0m\u001b[0;34m\u001b[0m\u001b[0m\n\u001b[1;32m     17\u001b[0m     \u001b[0minit\u001b[0m\u001b[0;34m.\u001b[0m\u001b[0mrun\u001b[0m\u001b[0;34m(\u001b[0m\u001b[0;34m)\u001b[0m\u001b[0;34m\u001b[0m\u001b[0m\n\u001b[0;32m---> 18\u001b[0;31m     \u001b[0moutputs_val\u001b[0m\u001b[0;34m,\u001b[0m \u001b[0mstates_val\u001b[0m \u001b[0;34m=\u001b[0m \u001b[0msess\u001b[0m\u001b[0;34m.\u001b[0m\u001b[0mrun\u001b[0m\u001b[0;34m(\u001b[0m\u001b[0;34m[\u001b[0m\u001b[0moutputs\u001b[0m\u001b[0;34m,\u001b[0m \u001b[0mstates\u001b[0m\u001b[0;34m]\u001b[0m\u001b[0;34m,\u001b[0m \u001b[0mfeed_dict\u001b[0m\u001b[0;34m=\u001b[0m\u001b[0;34m{\u001b[0m\u001b[0mX\u001b[0m\u001b[0;34m:\u001b[0m \u001b[0mX_batch\u001b[0m\u001b[0;34m,\u001b[0m \u001b[0mseq_length\u001b[0m\u001b[0;34m:\u001b[0m \u001b[0mseq_length_batch\u001b[0m\u001b[0;34m}\u001b[0m\u001b[0;34m)\u001b[0m\u001b[0;34m\u001b[0m\u001b[0m\n\u001b[0m\u001b[1;32m     19\u001b[0m     \u001b[0;32mprint\u001b[0m\u001b[0;34m(\u001b[0m\u001b[0;34m\"-----------------------------------------------\"\u001b[0m\u001b[0;34m)\u001b[0m\u001b[0;34m\u001b[0m\u001b[0m\n\u001b[1;32m     20\u001b[0m     \u001b[0;32mprint\u001b[0m\u001b[0;34m(\u001b[0m\u001b[0moutputs_val\u001b[0m\u001b[0;34m)\u001b[0m\u001b[0;34m\u001b[0m\u001b[0m\n",
      "\u001b[0;32m/home/jahmed/Developer/tools/miniconda2/envs/cruisetf_gpu/lib/python2.7/site-packages/tensorflow/python/client/session.pyc\u001b[0m in \u001b[0;36mrun\u001b[0;34m(self, fetches, feed_dict, options, run_metadata)\u001b[0m\n\u001b[1;32m    887\u001b[0m     \u001b[0;32mtry\u001b[0m\u001b[0;34m:\u001b[0m\u001b[0;34m\u001b[0m\u001b[0m\n\u001b[1;32m    888\u001b[0m       result = self._run(None, fetches, feed_dict, options_ptr,\n\u001b[0;32m--> 889\u001b[0;31m                          run_metadata_ptr)\n\u001b[0m\u001b[1;32m    890\u001b[0m       \u001b[0;32mif\u001b[0m \u001b[0mrun_metadata\u001b[0m\u001b[0;34m:\u001b[0m\u001b[0;34m\u001b[0m\u001b[0m\n\u001b[1;32m    891\u001b[0m         \u001b[0mproto_data\u001b[0m \u001b[0;34m=\u001b[0m \u001b[0mtf_session\u001b[0m\u001b[0;34m.\u001b[0m\u001b[0mTF_GetBuffer\u001b[0m\u001b[0;34m(\u001b[0m\u001b[0mrun_metadata_ptr\u001b[0m\u001b[0;34m)\u001b[0m\u001b[0;34m\u001b[0m\u001b[0m\n",
      "\u001b[0;32m/home/jahmed/Developer/tools/miniconda2/envs/cruisetf_gpu/lib/python2.7/site-packages/tensorflow/python/client/session.pyc\u001b[0m in \u001b[0;36m_run\u001b[0;34m(self, handle, fetches, feed_dict, options, run_metadata)\u001b[0m\n\u001b[1;32m   1094\u001b[0m                 \u001b[0;34m'Cannot feed value of shape %r for Tensor %r, '\u001b[0m\u001b[0;34m\u001b[0m\u001b[0m\n\u001b[1;32m   1095\u001b[0m                 \u001b[0;34m'which has shape %r'\u001b[0m\u001b[0;34m\u001b[0m\u001b[0m\n\u001b[0;32m-> 1096\u001b[0;31m                 % (np_val.shape, subfeed_t.name, str(subfeed_t.get_shape())))\n\u001b[0m\u001b[1;32m   1097\u001b[0m           \u001b[0;32mif\u001b[0m \u001b[0;32mnot\u001b[0m \u001b[0mself\u001b[0m\u001b[0;34m.\u001b[0m\u001b[0mgraph\u001b[0m\u001b[0;34m.\u001b[0m\u001b[0mis_feedable\u001b[0m\u001b[0;34m(\u001b[0m\u001b[0msubfeed_t\u001b[0m\u001b[0;34m)\u001b[0m\u001b[0;34m:\u001b[0m\u001b[0;34m\u001b[0m\u001b[0m\n\u001b[1;32m   1098\u001b[0m             \u001b[0;32mraise\u001b[0m \u001b[0mValueError\u001b[0m\u001b[0;34m(\u001b[0m\u001b[0;34m'Tensor %s may not be fed.'\u001b[0m \u001b[0;34m%\u001b[0m \u001b[0msubfeed_t\u001b[0m\u001b[0;34m)\u001b[0m\u001b[0;34m\u001b[0m\u001b[0m\n",
      "\u001b[0;31mValueError\u001b[0m: Cannot feed value of shape (4, 2, 3) for Tensor u'Placeholder_4:0', which has shape '(?, 4, 3)'"
     ]
    }
   ],
   "source": [
    "seq_length = tf.placeholder(tf.int32, [None])\n",
    "basic_cell = tf.contrib.rnn.BasicRNNCell(num_units=n_neurons, reuse=True)\n",
    "outputs, states = tf.nn.dynamic_rnn(basic_cell, X, dtype=tf.float32, sequence_length=seq_length)\n",
    "\n",
    "# X_batch = np.array([\n",
    "#     # step 0    step 1\n",
    "#     [[0, 1, 2], [9, 8, 7]], # instance 0\n",
    "#     [[3, 4, 5], [0, 0, 0]], # instance 1 (padded with a zero vector) \n",
    "#     [[6, 7, 8], [6, 5, 4]], # instance 2\n",
    "#     [[9, 0, 1], [3, 2, 1]], # instance 3\n",
    "# ])\n",
    "seq_length_batch = np.array([2, 1, 2, 2])\n",
    "\n",
    "init = tf.global_variables_initializer()\n",
    "\n",
    "with tf.Session() as sess: \n",
    "    init.run()\n",
    "    outputs_val, states_val = sess.run([outputs, states], feed_dict={X: X_batch, seq_length: seq_length_batch})\n",
    "    print(\"-----------------------------------------------\")\n",
    "    print(outputs_val)\n",
    "    print(\"-----------------------------------------------\")\n",
    "    print(states_val)"
   ]
  },
  {
   "cell_type": "code",
   "execution_count": null,
   "metadata": {
    "collapsed": true
   },
   "outputs": [],
   "source": []
  }
 ],
 "metadata": {
  "kernelspec": {
   "display_name": "Python 2",
   "language": "python",
   "name": "python2"
  },
  "language_info": {
   "codemirror_mode": {
    "name": "ipython",
    "version": 2
   },
   "file_extension": ".py",
   "mimetype": "text/x-python",
   "name": "python",
   "nbconvert_exporter": "python",
   "pygments_lexer": "ipython2",
   "version": "2.7.13"
  }
 },
 "nbformat": 4,
 "nbformat_minor": 2
}
