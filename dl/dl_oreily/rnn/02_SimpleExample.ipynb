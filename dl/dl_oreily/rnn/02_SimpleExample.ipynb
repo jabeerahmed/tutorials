{
 "cells": [
  {
   "cell_type": "code",
   "execution_count": 3,
   "metadata": {
    "collapsed": true
   },
   "outputs": [],
   "source": [
    "import tensorflow as tf\n",
    "import numpy as np\n",
    "\n",
    "# to make this notebook's output stable across runs\n",
    "def reset_graph(seed=42):\n",
    "    tf.reset_default_graph()\n",
    "    tf.set_random_seed(seed)\n",
    "    np.random.seed(seed)\n",
    "    "
   ]
  },
  {
   "cell_type": "markdown",
   "metadata": {},
   "source": [
    "## Basic Setup - Use MNIST and RNN simple cell to classify images"
   ]
  },
  {
   "cell_type": "code",
   "execution_count": 4,
   "metadata": {
    "collapsed": true,
    "scrolled": false
   },
   "outputs": [],
   "source": [
    "reset_graph()\n",
    "\n",
    "n_steps = 28 \n",
    "n_inputs = 28 \n",
    "n_neurons = 200 \n",
    "n_outputs = 10\n",
    "learning_rate = 0.001\n",
    "\n",
    "X = tf.placeholder(tf.float32, [None, n_steps, n_inputs]) \n",
    "y = tf.placeholder(tf.int32, [None])\n",
    "\n",
    "# Basic RNN Cell\n",
    "basic_cell = tf.contrib.rnn.BasicRNNCell(num_units=n_neurons) \n",
    "# Create the RNN cell\n",
    "outputs, states = tf.nn.dynamic_rnn(basic_cell, X, dtype=tf.float32)\n",
    "# Attach the fully_connected layer for classification\n",
    "logits = tf.layers.dense(states, n_outputs, activation=None) \n",
    "# Calculate SoftMax-Cross-Entropy\n",
    "xentropy = tf.nn.sparse_softmax_cross_entropy_with_logits(labels=y, logits=logits) \n",
    "# Calculate Loss - which is a simple MSE \n",
    "loss = tf.reduce_mean(xentropy)\n",
    "# Attach the optimizer - Adam\n",
    "optimizer = tf.train.AdamOptimizer(learning_rate=learning_rate) \n",
    "# Perform Back-Prop\n",
    "training_op = optimizer.minimize(loss)\n",
    "# Collect the top-k outputs\n",
    "correct = tf.nn.in_top_k(logits, y, 1)\n",
    "# Calculate Accuracy \n",
    "accuracy = tf.reduce_mean(tf.cast(correct, tf.float32))   \n",
    "\n",
    "# Initializer for variables\n",
    "init = tf.global_variables_initializer()"
   ]
  },
  {
   "cell_type": "markdown",
   "metadata": {},
   "source": [
    "## Download MNIST DataSet"
   ]
  },
  {
   "cell_type": "code",
   "execution_count": 5,
   "metadata": {},
   "outputs": [
    {
     "name": "stdout",
     "output_type": "stream",
     "text": [
      "Extracting /tmp/data/train-images-idx3-ubyte.gz\n",
      "Extracting /tmp/data/train-labels-idx1-ubyte.gz\n",
      "Extracting /tmp/data/t10k-images-idx3-ubyte.gz\n",
      "Extracting /tmp/data/t10k-labels-idx1-ubyte.gz\n"
     ]
    }
   ],
   "source": [
    "from tensorflow.examples.tutorials.mnist import input_data\n",
    "mnist = input_data.read_data_sets(\"/tmp/data/\")\n",
    "X_test = mnist.test.images.reshape((-1, n_steps, n_inputs))\n",
    "y_test = mnist.test.labels"
   ]
  },
  {
   "cell_type": "markdown",
   "metadata": {},
   "source": [
    "### Train"
   ]
  },
  {
   "cell_type": "code",
   "execution_count": 6,
   "metadata": {
    "scrolled": false
   },
   "outputs": [
    {
     "name": "stdout",
     "output_type": "stream",
     "text": [
      "(0, 'Train accuracy:', 0.92666668, 'Test accuracy:', 0.9374001)\n",
      "(1, 'Train accuracy:', 0.96666664, 'Test accuracy:', 0.9514001)\n",
      "(2, 'Train accuracy:', 0.96000004, 'Test accuracy:', 0.95300007)\n",
      "(3, 'Train accuracy:', 0.98000002, 'Test accuracy:', 0.96060014)\n",
      "(4, 'Train accuracy:', 0.95333332, 'Test accuracy:', 0.97030014)\n",
      "(5, 'Train accuracy:', 0.98666668, 'Test accuracy:', 0.96920013)\n",
      "(6, 'Train accuracy:', 0.99333334, 'Test accuracy:', 0.97400016)\n",
      "(7, 'Train accuracy:', 0.96000004, 'Test accuracy:', 0.96470016)\n",
      "(8, 'Train accuracy:', 0.9666667, 'Test accuracy:', 0.96700013)\n",
      "(9, 'Train accuracy:', 0.98000002, 'Test accuracy:', 0.97560012)\n",
      "(10, 'Train accuracy:', 0.99333334, 'Test accuracy:', 0.97590005)\n",
      "(11, 'Train accuracy:', 0.97333336, 'Test accuracy:', 0.97060013)\n",
      "(12, 'Train accuracy:', 1.0, 'Test accuracy:', 0.97350013)\n",
      "(13, 'Train accuracy:', 0.98666668, 'Test accuracy:', 0.97600007)\n",
      "(14, 'Train accuracy:', 0.97333336, 'Test accuracy:', 0.97020012)\n",
      "(15, 'Train accuracy:', 0.99333334, 'Test accuracy:', 0.97560006)\n",
      "(16, 'Train accuracy:', 1.0, 'Test accuracy:', 0.97690016)\n",
      "(17, 'Train accuracy:', 0.99333334, 'Test accuracy:', 0.97430009)\n",
      "(18, 'Train accuracy:', 0.98666668, 'Test accuracy:', 0.97580016)\n",
      "(19, 'Train accuracy:', 0.97333336, 'Test accuracy:', 0.97410011)\n",
      "(20, 'Train accuracy:', 0.97333336, 'Test accuracy:', 0.97290009)\n",
      "(21, 'Train accuracy:', 0.98666668, 'Test accuracy:', 0.97770011)\n",
      "(22, 'Train accuracy:', 0.98666668, 'Test accuracy:', 0.97910011)\n",
      "(23, 'Train accuracy:', 0.99333334, 'Test accuracy:', 0.97730011)\n",
      "(24, 'Train accuracy:', 0.98666668, 'Test accuracy:', 0.97790015)\n",
      "(25, 'Train accuracy:', 1.0, 'Test accuracy:', 0.97880006)\n",
      "(26, 'Train accuracy:', 0.98666668, 'Test accuracy:', 0.97220016)\n",
      "(27, 'Train accuracy:', 1.0, 'Test accuracy:', 0.9769001)\n",
      "(28, 'Train accuracy:', 0.9666667, 'Test accuracy:', 0.97540015)\n",
      "(29, 'Train accuracy:', 0.99333334, 'Test accuracy:', 0.9787001)\n",
      "(30, 'Train accuracy:', 0.98666668, 'Test accuracy:', 0.97570008)\n",
      "(31, 'Train accuracy:', 0.98666668, 'Test accuracy:', 0.97150016)\n",
      "(32, 'Train accuracy:', 0.98000002, 'Test accuracy:', 0.97590017)\n",
      "(33, 'Train accuracy:', 0.99333334, 'Test accuracy:', 0.97970009)\n",
      "(34, 'Train accuracy:', 0.99333334, 'Test accuracy:', 0.97860014)\n",
      "(35, 'Train accuracy:', 1.0, 'Test accuracy:', 0.9740001)\n",
      "(36, 'Train accuracy:', 0.99333334, 'Test accuracy:', 0.97750008)\n",
      "(37, 'Train accuracy:', 0.99333334, 'Test accuracy:', 0.97440016)\n",
      "(38, 'Train accuracy:', 0.99333334, 'Test accuracy:', 0.97470009)\n",
      "(39, 'Train accuracy:', 0.98666668, 'Test accuracy:', 0.9819001)\n",
      "(40, 'Train accuracy:', 0.98666668, 'Test accuracy:', 0.97560012)\n",
      "(41, 'Train accuracy:', 0.98666668, 'Test accuracy:', 0.97510016)\n",
      "(42, 'Train accuracy:', 0.98000002, 'Test accuracy:', 0.97610015)\n",
      "(43, 'Train accuracy:', 1.0, 'Test accuracy:', 0.97820008)\n",
      "(44, 'Train accuracy:', 0.99333334, 'Test accuracy:', 0.97900009)\n",
      "(45, 'Train accuracy:', 0.98666668, 'Test accuracy:', 0.97560012)\n",
      "(46, 'Train accuracy:', 0.99333334, 'Test accuracy:', 0.97650009)\n",
      "(47, 'Train accuracy:', 0.99333334, 'Test accuracy:', 0.97710013)\n",
      "(48, 'Train accuracy:', 1.0, 'Test accuracy:', 0.97760016)\n",
      "(49, 'Train accuracy:', 0.99333334, 'Test accuracy:', 0.97470015)\n",
      "(50, 'Train accuracy:', 0.98000002, 'Test accuracy:', 0.95430017)\n",
      "(51, 'Train accuracy:', 1.0, 'Test accuracy:', 0.9800002)\n",
      "(52, 'Train accuracy:', 0.96666664, 'Test accuracy:', 0.96660018)\n",
      "(53, 'Train accuracy:', 0.99333334, 'Test accuracy:', 0.97310013)\n",
      "(54, 'Train accuracy:', 0.99333334, 'Test accuracy:', 0.97770011)\n",
      "(55, 'Train accuracy:', 0.99333334, 'Test accuracy:', 0.98080015)\n",
      "(56, 'Train accuracy:', 1.0, 'Test accuracy:', 0.9758001)\n",
      "(57, 'Train accuracy:', 0.99333334, 'Test accuracy:', 0.97550011)\n",
      "(58, 'Train accuracy:', 0.97333336, 'Test accuracy:', 0.9758001)\n",
      "(59, 'Train accuracy:', 0.99333334, 'Test accuracy:', 0.97680014)\n",
      "(60, 'Train accuracy:', 1.0, 'Test accuracy:', 0.97650015)\n",
      "(61, 'Train accuracy:', 0.99333334, 'Test accuracy:', 0.97620022)\n",
      "(62, 'Train accuracy:', 1.0, 'Test accuracy:', 0.97600013)\n",
      "(63, 'Train accuracy:', 1.0, 'Test accuracy:', 0.97580016)\n",
      "(64, 'Train accuracy:', 0.98666668, 'Test accuracy:', 0.97610015)\n",
      "(65, 'Train accuracy:', 0.99333334, 'Test accuracy:', 0.96930009)\n",
      "(66, 'Train accuracy:', 1.0, 'Test accuracy:', 0.97790015)\n",
      "(67, 'Train accuracy:', 0.98000002, 'Test accuracy:', 0.97370011)\n",
      "(68, 'Train accuracy:', 0.98666668, 'Test accuracy:', 0.9733001)\n",
      "(69, 'Train accuracy:', 1.0, 'Test accuracy:', 0.97350013)\n",
      "(70, 'Train accuracy:', 0.98666668, 'Test accuracy:', 0.97630012)\n",
      "(71, 'Train accuracy:', 1.0, 'Test accuracy:', 0.9762001)\n",
      "(72, 'Train accuracy:', 1.0, 'Test accuracy:', 0.97380012)\n",
      "(73, 'Train accuracy:', 1.0, 'Test accuracy:', 0.98100007)\n",
      "(74, 'Train accuracy:', 0.98666668, 'Test accuracy:', 0.97660017)\n",
      "(75, 'Train accuracy:', 0.99333334, 'Test accuracy:', 0.97930014)\n",
      "(76, 'Train accuracy:', 0.99333334, 'Test accuracy:', 0.97480005)\n",
      "(77, 'Train accuracy:', 1.0, 'Test accuracy:', 0.98040015)\n",
      "(78, 'Train accuracy:', 0.97333336, 'Test accuracy:', 0.9697001)\n",
      "(79, 'Train accuracy:', 0.98666668, 'Test accuracy:', 0.97390014)\n",
      "(80, 'Train accuracy:', 0.95333332, 'Test accuracy:', 0.97220016)\n",
      "(81, 'Train accuracy:', 0.98000002, 'Test accuracy:', 0.97570014)\n",
      "(82, 'Train accuracy:', 1.0, 'Test accuracy:', 0.97880012)\n",
      "(83, 'Train accuracy:', 1.0, 'Test accuracy:', 0.98010015)\n",
      "(84, 'Train accuracy:', 1.0, 'Test accuracy:', 0.97900015)\n",
      "(85, 'Train accuracy:', 0.98666668, 'Test accuracy:', 0.96840012)\n",
      "(86, 'Train accuracy:', 0.98666668, 'Test accuracy:', 0.97310013)\n",
      "(87, 'Train accuracy:', 0.96666664, 'Test accuracy:', 0.97790009)\n",
      "(88, 'Train accuracy:', 1.0, 'Test accuracy:', 0.97730011)\n",
      "(89, 'Train accuracy:', 0.98666668, 'Test accuracy:', 0.9780001)\n",
      "(90, 'Train accuracy:', 0.99333334, 'Test accuracy:', 0.97830015)\n",
      "(91, 'Train accuracy:', 0.98666668, 'Test accuracy:', 0.96760011)\n",
      "(92, 'Train accuracy:', 0.98666662, 'Test accuracy:', 0.97630012)\n",
      "(93, 'Train accuracy:', 1.0, 'Test accuracy:', 0.97840011)\n",
      "(94, 'Train accuracy:', 0.98666668, 'Test accuracy:', 0.98250014)\n",
      "(95, 'Train accuracy:', 0.99333334, 'Test accuracy:', 0.9769001)\n",
      "(96, 'Train accuracy:', 0.99333334, 'Test accuracy:', 0.97670013)\n",
      "(97, 'Train accuracy:', 0.98666668, 'Test accuracy:', 0.97050017)\n",
      "(98, 'Train accuracy:', 0.97333336, 'Test accuracy:', 0.97090006)\n",
      "(99, 'Train accuracy:', 1.0, 'Test accuracy:', 0.97580016)\n"
     ]
    }
   ],
   "source": [
    "n_epochs = 100 \n",
    "batch_size = 150\n",
    "\n",
    "with tf.Session() as sess: \n",
    "    init.run()\n",
    "    for epoch in range(n_epochs):\n",
    "        for iteration in range(mnist.train.num_examples // batch_size):\n",
    "            X_batch, y_batch = mnist.train.next_batch(batch_size) \n",
    "            X_batch = X_batch.reshape((-1, n_steps, n_inputs)) \n",
    "            sess.run(training_op, feed_dict={X: X_batch, y: y_batch})\n",
    "        acc_train = accuracy.eval(feed_dict={X: X_batch, y: y_batch}) \n",
    "        acc_test = accuracy.eval(feed_dict={X: X_test, y: y_test}) \n",
    "        print(epoch, \"Train accuracy:\", acc_train, \"Test accuracy:\", acc_test)"
   ]
  },
  {
   "cell_type": "code",
   "execution_count": null,
   "metadata": {
    "collapsed": true
   },
   "outputs": [],
   "source": []
  }
 ],
 "metadata": {
  "kernelspec": {
   "display_name": "Python 2",
   "language": "python",
   "name": "python2"
  },
  "language_info": {
   "codemirror_mode": {
    "name": "ipython",
    "version": 2
   },
   "file_extension": ".py",
   "mimetype": "text/x-python",
   "name": "python",
   "nbconvert_exporter": "python",
   "pygments_lexer": "ipython2",
   "version": "2.7.13"
  }
 },
 "nbformat": 4,
 "nbformat_minor": 2
}
