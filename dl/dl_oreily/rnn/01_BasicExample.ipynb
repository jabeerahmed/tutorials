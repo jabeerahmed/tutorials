{
 "cells": [
  {
   "cell_type": "code",
   "execution_count": 1,
   "metadata": {
    "collapsed": true
   },
   "outputs": [],
   "source": [
    "import tensorflow as tf\n",
    "import numpy as np"
   ]
  },
  {
   "cell_type": "code",
   "execution_count": 13,
   "metadata": {
    "collapsed": true
   },
   "outputs": [],
   "source": [
    "n_inputs = 3 \n",
    "n_neurons = 5"
   ]
  },
  {
   "cell_type": "code",
   "execution_count": 14,
   "metadata": {
    "collapsed": true
   },
   "outputs": [],
   "source": [
    "\n",
    "X0 = tf.placeholder(tf.float32, [None, n_inputs]) \n",
    "X1 = tf.placeholder(tf.float32, [None, n_inputs])\n",
    "\n",
    "Wx = tf.Variable(tf.random_normal(shape=[n_inputs, n_neurons],dtype=tf.float32)) \n",
    "Wy = tf.Variable(tf.random_normal(shape=[n_neurons,n_neurons],dtype=tf.float32)) \n",
    "b = tf.Variable(tf.zeros([1, n_neurons], dtype=tf.float32))\n",
    "\n",
    "Y0 = tf.tanh(tf.matmul(X0, Wx) + b)\n",
    "Y1 = tf.tanh(tf.matmul(Y0, Wy) + tf.matmul(X1, Wx) + b)\n",
    "\n"
   ]
  },
  {
   "cell_type": "code",
   "execution_count": 15,
   "metadata": {},
   "outputs": [
    {
     "name": "stdout",
     "output_type": "stream",
     "text": [
      "[[ 0.89879841  0.99072748  0.90153933 -0.92278874  0.41099289]\n",
      " [ 0.9999997   0.99989456  1.         -0.99999988 -0.99999595]\n",
      " [ 1.          0.99999881  1.         -1.         -1.        ]\n",
      " [ 0.99999952 -0.9999299   1.         -0.99996901 -1.        ]]\n",
      "[[ 1.          0.99945593  1.         -1.         -1.        ]\n",
      " [-0.98404354  0.74714833 -0.58133227 -0.87728298  0.91720599]\n",
      " [ 1.          0.99207693  1.         -1.         -1.        ]\n",
      " [ 0.99998528 -0.05925031  1.         -0.99732852 -0.99999732]]\n"
     ]
    }
   ],
   "source": [
    "# Mini-batch:        instance 0,instance 1,instance 2,instance 3\n",
    "X0_batch = np.array([[0, 1, 2], [3, 4, 5], [6, 7, 8], [9, 0, 1]]) # t = 0 \n",
    "X1_batch = np.array([[9, 8, 7], [0, 0, 0], [6, 5, 4], [3, 2, 1]]) # t = 1\n",
    "\n",
    "init = tf.global_variables_initializer()\n",
    "\n",
    "with tf.Session() as sess: \n",
    "    init.run()\n",
    "    Y0_val, Y1_val = sess.run([Y0, Y1], feed_dict={X0: X0_batch, X1: X1_batch})\n",
    "    print(Y0_val)\n",
    "    print(Y1_val)\n",
    "    \n"
   ]
  },
  {
   "cell_type": "markdown",
   "metadata": {},
   "source": [
    "Static unroll the network"
   ]
  },
  {
   "cell_type": "code",
   "execution_count": 16,
   "metadata": {},
   "outputs": [],
   "source": [
    "n_steps = 4\n",
    "X = tf.placeholder(tf.float32, [None, n_steps, n_inputs]) \n",
    "X_seqs = tf.unstack(tf.transpose(X, perm=[1, 0, 2])) \n",
    "basic_cell = tf.contrib.rnn.BasicRNNCell(num_units=n_neurons, reuse=tf.AUTO_REUSE) \n",
    "output_seqs, states = tf.contrib.rnn.static_rnn(basic_cell, X_seqs, dtype=tf.float32) \n",
    "outputs = tf.transpose(tf.stack(output_seqs), perm=[1, 0, 2])"
   ]
  },
  {
   "cell_type": "code",
   "execution_count": 17,
   "metadata": {
    "scrolled": true
   },
   "outputs": [
    {
     "name": "stdout",
     "output_type": "stream",
     "text": [
      "((4, 4, 5), array([[[ 0.86637133, -0.55519849, -0.97251904,  0.03270818, -0.91350502],\n",
      "        [-0.99928916,  0.86048329,  0.54540539, -0.99984103,  0.97426826],\n",
      "        [-0.99949807,  0.98524779,  0.98031551, -0.9987793 ,  0.98445666],\n",
      "        [-0.97256231,  0.94887215, -0.42968053, -0.97392356, -0.24955133]],\n",
      "\n",
      "       [[-0.99709272,  0.91775   ,  0.93292534, -0.99920511,  0.98479062],\n",
      "        [-0.37246856,  0.81533486, -0.96785265, -0.25090876, -0.97511387],\n",
      "        [ 0.92111909, -0.61718714, -0.99999309,  0.87952876, -0.9999662 ],\n",
      "        [-0.05040411, -0.39962953, -0.98243755, -0.91505539, -0.75839227]],\n",
      "\n",
      "       [[-0.93098873,  0.70039928, -0.76462626, -0.99884892,  0.36842662],\n",
      "        [-0.99989593,  0.98114711,  0.97863096, -0.99963963,  0.98942637],\n",
      "        [-0.99387884,  0.97967857,  0.51920283, -0.95552492,  0.28007409],\n",
      "        [-0.92052209,  0.89755243, -0.97957492, -0.98184401, -0.92720497]],\n",
      "\n",
      "       [[ 0.75067335,  0.55973136, -0.99999416, -0.10312977, -0.99997711],\n",
      "        [-0.71447015, -0.47031805, -0.99912667, -0.54619312, -0.9674778 ],\n",
      "        [-0.11213671,  0.62141877, -0.89379638, -0.68350577, -0.96713221],\n",
      "        [-0.96508127, -0.71284741,  0.9990899 , -0.95879632,  0.99985719]]], dtype=float32))\n"
     ]
    }
   ],
   "source": [
    "\n",
    "X_batch = np.array([ \n",
    "    #t=0        t=1\n",
    "    [[0, 1, 2], [9, 8, 7]], # instance 0 \n",
    "    [[3, 4, 5], [0, 0, 0]], # instance 1\n",
    "    [[6, 7, 8], [6, 5, 4]], # instance 2\n",
    "    [[9, 0, 1], [3, 2, 1]], # instance 3 \n",
    "])\n",
    "\n",
    "X_batch = np.random.randint(0, high=10, size=(4, n_steps, n_inputs))\n",
    "\n",
    "init = tf.global_variables_initializer()\n",
    "\n",
    "with tf.Session() as sess: \n",
    "    init.run()\n",
    "    outputs_val = outputs.eval(feed_dict={X: X_batch})\n",
    "    print(outputs_val.shape, outputs_val)"
   ]
  },
  {
   "cell_type": "markdown",
   "metadata": {},
   "source": [
    "Dynamic RNN"
   ]
  },
  {
   "cell_type": "code",
   "execution_count": 18,
   "metadata": {
    "collapsed": true
   },
   "outputs": [],
   "source": [
    "X = tf.placeholder(tf.float32, [None, n_steps, n_inputs]) \n",
    "basic_cell = tf.contrib.rnn.BasicRNNCell(num_units=n_neurons, reuse=True)\n",
    "outputs, states = tf.nn.dynamic_rnn(basic_cell, X, dtype=tf.float32)"
   ]
  },
  {
   "cell_type": "code",
   "execution_count": 19,
   "metadata": {},
   "outputs": [
    {
     "name": "stdout",
     "output_type": "stream",
     "text": [
      "((4, 4, 5), array([[[ 0.63920832,  0.99621069, -0.99197495, -0.96988714,  0.51384735],\n",
      "        [-0.99902743,  0.99999791, -0.65546632,  0.94535208, -0.94744056],\n",
      "        [-0.93153596,  1.        , -0.7001242 ,  0.53310984,  0.0397525 ],\n",
      "        [-0.94903445,  0.99999583, -0.97840238, -0.09500547, -0.7994203 ]],\n",
      "\n",
      "       [[-0.96030819,  0.99999136, -0.01352669,  0.80969471, -0.46598232],\n",
      "        [-0.65358245,  0.99960017, -0.96045309, -0.87274522, -0.64940554],\n",
      "        [-0.87467957,  0.99291646, -0.99750835, -0.97636789, -0.95555443],\n",
      "        [-0.9072178 ,  0.99981105, -0.96516299, -0.80722332, -0.70015013]],\n",
      "\n",
      "       [[-0.82083577,  1.        , -0.99590266, -0.83910519, -0.00975125],\n",
      "        [-0.99199474,  1.        , -0.91792309,  0.62127179, -0.56008416],\n",
      "        [-0.97757614,  0.99955827, -0.17544271,  0.85564941, -0.89829391],\n",
      "        [-0.9245609 ,  0.99999994, -0.99096477, -0.87989563, -0.67832375]],\n",
      "\n",
      "       [[-0.96992928,  0.99739987, -0.97243834, -0.70799577, -0.99237132],\n",
      "        [-0.96232033,  0.99997228, -0.98423582, -0.83166713, -0.90491891],\n",
      "        [-0.9173103 ,  0.92323762, -0.38782793, -0.05228925, -0.81755584],\n",
      "        [ 0.84249473,  0.99999088, -0.92846256, -0.90640396,  0.99444956]]], dtype=float32))\n"
     ]
    }
   ],
   "source": [
    "\n",
    "# X_batch = np.array([ \n",
    "#     #t=0        t=1\n",
    "#     [[0, 1, 2], [9, 8, 7]], # instance 0 \n",
    "#     [[3, 4, 5], [0, 0, 0]], # instance 1\n",
    "#     [[6, 7, 8], [6, 5, 4]], # instance 2\n",
    "#     [[9, 0, 1], [3, 2, 1]], # instance 3 \n",
    "# ])\n",
    "# X_batch = np.random.randint(0, high=10, size=(4, n_steps, n_inputs))\n",
    "\n",
    "with tf.Session() as sess: \n",
    "    init.run()\n",
    "    outputs_val = outputs.eval(feed_dict={X: X_batch})\n",
    "    print(outputs_val.shape, outputs_val)"
   ]
  },
  {
   "cell_type": "markdown",
   "metadata": {},
   "source": [
    "Variable Sequence Length"
   ]
  },
  {
   "cell_type": "code",
   "execution_count": 20,
   "metadata": {},
   "outputs": [
    {
     "name": "stdout",
     "output_type": "stream",
     "text": [
      "-----------------------------------------------\n",
      "[[[-0.99922597 -0.96967816 -0.94536936  0.20033468  0.99993646]\n",
      "  [-0.20636128  0.99975294 -0.99999988  0.9300521   0.99906361]\n",
      "  [ 0.          0.          0.          0.          0.        ]\n",
      "  [ 0.          0.          0.          0.          0.        ]]\n",
      "\n",
      " [[-0.77677733  0.99366647 -0.99999833  0.79104751  0.99872667]\n",
      "  [ 0.          0.          0.          0.          0.        ]\n",
      "  [ 0.          0.          0.          0.          0.        ]\n",
      "  [ 0.          0.          0.          0.          0.        ]]\n",
      "\n",
      " [[-0.99994415  0.33028042 -0.99999994  0.88590157  1.        ]\n",
      "  [-0.99626333  0.99961406 -1.         -0.06410188  0.99992627]\n",
      "  [ 0.          0.          0.          0.          0.        ]\n",
      "  [ 0.          0.          0.          0.          0.        ]]\n",
      "\n",
      " [[-0.14401278 -0.99762577 -0.9901731   0.99565089  0.99998021]\n",
      "  [-0.8333298  -0.17101981 -0.99957359  0.90175283  0.99994987]\n",
      "  [ 0.          0.          0.          0.          0.        ]\n",
      "  [ 0.          0.          0.          0.          0.        ]]]\n",
      "-----------------------------------------------\n",
      "[[-0.20636128  0.99975294 -0.99999988  0.9300521   0.99906361]\n",
      " [-0.77677733  0.99366647 -0.99999833  0.79104751  0.99872667]\n",
      " [-0.99626333  0.99961406 -1.         -0.06410188  0.99992627]\n",
      " [-0.8333298  -0.17101981 -0.99957359  0.90175283  0.99994987]]\n"
     ]
    }
   ],
   "source": [
    "seq_length = tf.placeholder(tf.int32, [None])\n",
    "basic_cell = tf.contrib.rnn.BasicRNNCell(num_units=n_neurons, reuse=True)\n",
    "outputs, states = tf.nn.dynamic_rnn(basic_cell, X, dtype=tf.float32, sequence_length=seq_length)\n",
    "\n",
    "# X_batch = np.array([\n",
    "#     # step 0    step 1\n",
    "#     [[0, 1, 2], [9, 8, 7]], # instance 0\n",
    "#     [[3, 4, 5], [0, 0, 0]], # instance 1 (padded with a zero vector) \n",
    "#     [[6, 7, 8], [6, 5, 4]], # instance 2\n",
    "#     [[9, 0, 1], [3, 2, 1]], # instance 3\n",
    "# ])\n",
    "seq_length_batch = np.array([2, 1, 2, 2])\n",
    "\n",
    "init = tf.global_variables_initializer()\n",
    "\n",
    "with tf.Session() as sess: \n",
    "    init.run()\n",
    "    outputs_val, states_val = sess.run([outputs, states], feed_dict={X: X_batch, seq_length: seq_length_batch})\n",
    "    print(\"-----------------------------------------------\")\n",
    "    print(outputs_val)\n",
    "    print(\"-----------------------------------------------\")\n",
    "    print(states_val)"
   ]
  },
  {
   "cell_type": "code",
   "execution_count": null,
   "metadata": {
    "collapsed": true
   },
   "outputs": [],
   "source": []
  }
 ],
 "metadata": {
  "kernelspec": {
   "display_name": "Python 2",
   "language": "python",
   "name": "python2"
  },
  "language_info": {
   "codemirror_mode": {
    "name": "ipython",
    "version": 2
   },
   "file_extension": ".py",
   "mimetype": "text/x-python",
   "name": "python",
   "nbconvert_exporter": "python",
   "pygments_lexer": "ipython2",
   "version": "2.7.13"
  }
 },
 "nbformat": 4,
 "nbformat_minor": 2
}
