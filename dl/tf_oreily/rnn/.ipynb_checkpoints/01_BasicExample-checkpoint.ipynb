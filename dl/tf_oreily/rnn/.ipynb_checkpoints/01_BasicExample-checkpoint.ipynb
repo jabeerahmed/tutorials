{
 "cells": [
  {
   "cell_type": "code",
   "execution_count": 1,
   "metadata": {
    "collapsed": true
   },
   "outputs": [],
   "source": [
    "import tensorflow as tf\n",
    "import numpy as np"
   ]
  },
  {
   "cell_type": "code",
   "execution_count": 2,
   "metadata": {
    "collapsed": true
   },
   "outputs": [],
   "source": [
    "n_inputs = 3 \n",
    "n_neurons = 5"
   ]
  },
  {
   "cell_type": "code",
   "execution_count": 3,
   "metadata": {},
   "outputs": [],
   "source": [
    "\n",
    "X0 = tf.placeholder(tf.float32, [None, n_inputs]) \n",
    "X1 = tf.placeholder(tf.float32, [None, n_inputs])\n",
    "\n",
    "Wx = tf.Variable(tf.random_normal(shape=[n_inputs, n_neurons],dtype=tf.float32)) \n",
    "Wy = tf.Variable(tf.random_normal(shape=[n_neurons,n_neurons],dtype=tf.float32)) \n",
    "b = tf.Variable(tf.zeros([1, n_neurons], dtype=tf.float32))\n",
    "\n",
    "Y0 = tf.tanh(tf.matmul(X0, Wx) + b)\n",
    "Y1 = tf.tanh(tf.matmul(Y0, Wy) + tf.matmul(X1, Wx) + b)\n",
    "\n"
   ]
  },
  {
   "cell_type": "code",
   "execution_count": 4,
   "metadata": {},
   "outputs": [
    {
     "name": "stdout",
     "output_type": "stream",
     "text": [
      "[[ 0.3303366   0.98770708 -0.9740361   0.99911559 -0.99190861]\n",
      " [-0.99715817  0.99991393 -0.99999863  1.         -0.99999702]\n",
      " [-0.99999797  0.9999994  -1.          1.         -1.        ]\n",
      " [-0.99999696 -0.96783209 -0.99685031  0.99999779 -0.91077739]]\n",
      "[[-1.          0.89761585 -1.          1.         -1.        ]\n",
      " [ 0.95381039 -0.91721654  0.8493017   0.98633868 -0.5158999 ]\n",
      " [-0.99997818  0.69516551 -0.99999487  1.         -0.99997878]\n",
      " [-0.99944437  0.62935507 -0.99986732  0.99925405  0.3732006 ]]\n"
     ]
    }
   ],
   "source": [
    "# Mini-batch:        instance 0,instance 1,instance 2,instance 3\n",
    "X0_batch = np.array([[0, 1, 2], [3, 4, 5], [6, 7, 8], [9, 0, 1]]) # t = 0 \n",
    "X1_batch = np.array([[9, 8, 7], [0, 0, 0], [6, 5, 4], [3, 2, 1]]) # t = 1\n",
    "\n",
    "init = tf.global_variables_initializer()\n",
    "\n",
    "with tf.Session() as sess: \n",
    "    init.run()\n",
    "    Y0_val, Y1_val = sess.run([Y0, Y1], feed_dict={X0: X0_batch, X1: X1_batch})\n",
    "    print(Y0_val)\n",
    "    print(Y1_val)"
   ]
  },
  {
   "cell_type": "markdown",
   "metadata": {},
   "source": [
    "Static unroll the network"
   ]
  },
  {
   "cell_type": "code",
   "execution_count": 5,
   "metadata": {},
   "outputs": [],
   "source": [
    "n_steps = 2\n",
    "X = tf.placeholder(tf.float32, [None, n_steps, n_inputs]) \n",
    "X_seqs = tf.unstack(tf.transpose(X, perm=[1, 0, 2])) \n",
    "basic_cell = tf.contrib.rnn.BasicRNNCell(num_units=n_neurons) \n",
    "output_seqs, states = tf.contrib.rnn.static_rnn(basic_cell, X_seqs, dtype=tf.float32) \n",
    "outputs = tf.transpose(tf.stack(output_seqs), perm=[1, 0, 2])"
   ]
  },
  {
   "cell_type": "code",
   "execution_count": 12,
   "metadata": {},
   "outputs": [
    {
     "name": "stdout",
     "output_type": "stream",
     "text": [
      "[[[-0.63410115  0.62765372 -0.01168567  0.01097215  0.3577458 ]\n",
      "  [-0.9051668   0.99994653  0.93924701 -0.99998885  0.9999097 ]]\n",
      "\n",
      " [[-0.86545515  0.99340189  0.48195213 -0.96855223  0.97871858]\n",
      "  [-0.64420617 -0.89428633  0.53324109  0.34449938 -0.75095516]]\n",
      "\n",
      " [[-0.95459133  0.99990422  0.78670806 -0.99950081  0.99951106]\n",
      "  [-0.81529117  0.95249909  0.92713839 -0.99923533  0.98015392]]\n",
      "\n",
      " [[ 0.99956483  0.99993879  0.99983066 -0.99904752  0.99995899]\n",
      "  [ 0.30664212 -0.39215598  0.98399824 -0.69550645  0.75283861]]]\n"
     ]
    }
   ],
   "source": [
    "\n",
    "X_batch = np.array([ \n",
    "    #t=0        t=1\n",
    "    [[0, 1, 2], [9, 8, 7]], # instance 0 \n",
    "    [[3, 4, 5], [0, 0, 0]], # instance 1\n",
    "    [[6, 7, 8], [6, 5, 4]], # instance 2\n",
    "    [[9, 0, 1], [3, 2, 1]], # instance 3 \n",
    "])\n",
    "\n",
    "init = tf.global_variables_initializer()\n",
    "\n",
    "with tf.Session() as sess: \n",
    "    init.run()\n",
    "    outputs_val = outputs.eval(feed_dict={X: X_batch})\n",
    "    print(outputs_val)"
   ]
  },
  {
   "cell_type": "markdown",
   "metadata": {},
   "source": [
    "Dynamic RNN"
   ]
  },
  {
   "cell_type": "code",
   "execution_count": 27,
   "metadata": {},
   "outputs": [],
   "source": [
    "X = tf.placeholder(tf.float32, [None, n_steps, n_inputs]) \n",
    "basic_cell = tf.contrib.rnn.BasicRNNCell(num_units=n_neurons, reuse=True)\n",
    "outputs, states = tf.nn.dynamic_rnn(basic_cell, X, dtype=tf.float32)"
   ]
  },
  {
   "cell_type": "code",
   "execution_count": 28,
   "metadata": {},
   "outputs": [
    {
     "name": "stdout",
     "output_type": "stream",
     "text": [
      "[[[ 0.12476054 -0.84626788 -0.75803363 -0.92107809  0.81565523]\n",
      "  [ 0.99999994 -0.92798531 -0.99999112 -0.99963766 -0.06559305]]\n",
      "\n",
      " [[ 0.99575114 -0.98072195 -0.99776036 -0.99704444  0.93790805]\n",
      "  [-0.52467662  0.47302914  0.33794853 -0.69223988 -0.66913062]]\n",
      "\n",
      " [[ 0.99998838 -0.99772727 -0.99998176 -0.99989337  0.97997987]\n",
      "  [ 0.9999395  -0.36168811 -0.99803901 -0.98904777 -0.66058016]]\n",
      "\n",
      " [[ 0.99996287  0.99991804 -0.97811913  0.9994272  -0.99183202]\n",
      "  [ 0.79588479  0.6592654  -0.85844493  0.36583197 -0.61230135]]]\n"
     ]
    }
   ],
   "source": [
    "\n",
    "X_batch = np.array([ \n",
    "    #t=0        t=1\n",
    "    [[0, 1, 2], [9, 8, 7]], # instance 0 \n",
    "    [[3, 4, 5], [0, 0, 0]], # instance 1\n",
    "    [[6, 7, 8], [6, 5, 4]], # instance 2\n",
    "    [[9, 0, 1], [3, 2, 1]], # instance 3 \n",
    "])\n",
    "\n",
    "with tf.Session() as sess: \n",
    "    init.run()\n",
    "    outputs_val = outputs.eval(feed_dict={X: X_batch})\n",
    "    print(outputs_val)"
   ]
  },
  {
   "cell_type": "markdown",
   "metadata": {},
   "source": [
    "Variable Sequence Length"
   ]
  },
  {
   "cell_type": "code",
   "execution_count": 32,
   "metadata": {},
   "outputs": [
    {
     "name": "stdout",
     "output_type": "stream",
     "text": [
      "[[[-0.61595106  0.75436926  0.22723964 -0.34615222  0.78609455]\n",
      "  [-0.54346389  0.99999881  0.99983883  0.15777272  0.99739087]]\n",
      "\n",
      " [[-0.80326456  0.99872786  0.96199226 -0.46769449  0.99187124]\n",
      "  [ 0.          0.          0.          0.          0.        ]]\n",
      "\n",
      " [[-0.90461189  0.99999422  0.99880874 -0.57379663  0.99972194]\n",
      "  [ 0.08142296  0.99987173  0.99728358  0.39974162  0.94951773]]\n",
      "\n",
      " [[ 0.99991167  0.99922293  0.99999213 -0.60558248  0.89424419]\n",
      "  [ 0.08686902  0.79965484  0.81800908  0.85725063  0.4689818 ]]]\n",
      "[[-0.54346389  0.99999881  0.99983883  0.15777272  0.99739087]\n",
      " [-0.80326456  0.99872786  0.96199226 -0.46769449  0.99187124]\n",
      " [ 0.08142296  0.99987173  0.99728358  0.39974162  0.94951773]\n",
      " [ 0.08686902  0.79965484  0.81800908  0.85725063  0.4689818 ]]\n"
     ]
    }
   ],
   "source": [
    "seq_length = tf.placeholder(tf.int32, [None])\n",
    "basic_cell = tf.contrib.rnn.BasicRNNCell(num_units=n_neurons, reuse=True)\n",
    "outputs, states = tf.nn.dynamic_rnn(basic_cell, X, dtype=tf.float32, sequence_length=seq_length)\n",
    "\n",
    "X_batch = np.array([\n",
    "    # step 0    step 1\n",
    "    [[0, 1, 2], [9, 8, 7]], # instance 0\n",
    "    [[3, 4, 5], [0, 0, 0]], # instance 1 (padded with a zero vector) \n",
    "    [[6, 7, 8], [6, 5, 4]], # instance 2\n",
    "    [[9, 0, 1], [3, 2, 1]], # instance 3\n",
    "])\n",
    "seq_length_batch = np.array([2, 1, 2, 2])\n",
    "\n",
    "init = tf.global_variables_initializer()\n",
    "\n",
    "with tf.Session() as sess: \n",
    "    init.run()\n",
    "    outputs_val, states_val = sess.run([outputs, states], feed_dict={X: X_batch, seq_length: seq_length_batch})\n",
    "    print(\"-----------------------------------------------\")\n",
    "    print(outputs_val)\n",
    "    print(\"-----------------------------------------------\")\n",
    "    print(states_val)"
   ]
  }
 ],
 "metadata": {
  "kernelspec": {
   "display_name": "Python 2",
   "language": "python",
   "name": "python2"
  },
  "language_info": {
   "codemirror_mode": {
    "name": "ipython",
    "version": 2
   },
   "file_extension": ".py",
   "mimetype": "text/x-python",
   "name": "python",
   "nbconvert_exporter": "python",
   "pygments_lexer": "ipython2",
   "version": "2.7.13"
  }
 },
 "nbformat": 4,
 "nbformat_minor": 2
}
